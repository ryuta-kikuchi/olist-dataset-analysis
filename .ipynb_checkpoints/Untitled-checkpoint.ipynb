{
 "cells": [
  {
   "cell_type": "code",
   "execution_count": 4,
   "id": "799ad3c4-fefc-4584-9a0a-4f1ae7e11aae",
   "metadata": {},
   "outputs": [],
   "source": [
    "import pandas as pd"
   ]
  },
  {
   "cell_type": "code",
   "execution_count": null,
   "id": "72e709a8-ff05-4a22-a93d-7d2f2fb3614c",
   "metadata": {},
   "outputs": [],
   "source": [
    "raw_olist_product_dataset = pd.read\"olist_products_dataset.csv\""
   ]
  },
  {
   "cell_type": "code",
   "execution_count": null,
   "id": "3f9cbb38-526a-48e3-a3a2-76eac5f1f92f",
   "metadata": {},
   "outputs": [],
   "source": []
  }
 ],
 "metadata": {
  "kernelspec": {
   "display_name": "Python 3 (ipykernel)",
   "language": "python",
   "name": "python3"
  },
  "language_info": {
   "codemirror_mode": {
    "name": "ipython",
    "version": 3
   },
   "file_extension": ".py",
   "mimetype": "text/x-python",
   "name": "python",
   "nbconvert_exporter": "python",
   "pygments_lexer": "ipython3",
   "version": "3.12.0"
  }
 },
 "nbformat": 4,
 "nbformat_minor": 5
}
